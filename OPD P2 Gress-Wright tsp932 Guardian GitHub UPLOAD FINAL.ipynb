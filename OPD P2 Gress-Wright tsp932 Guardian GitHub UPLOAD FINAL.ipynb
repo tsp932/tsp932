{
 "cells": [
  {
   "cell_type": "markdown",
   "metadata": {},
   "source": [
    "## OPD PORTFOLIO 2:  Text Mining in The Guardian\n",
    "Gress-Wright tsp932\n",
    "5 January, 2020\n",
    "\n",
    "Instructions\n",
    "  For this assignment you will:\n",
    "1. Open, import, and/or read a text collection\n",
    "2. Pre-process and describe your collection\n",
    "3. Select articles using a query\n",
    "4. Model and visualize the topics in your subset\n"
   ]
  },
  {
   "cell_type": "markdown",
   "metadata": {},
   "source": [
    "0. ABOUT TEXT MINING\n",
    "\n",
    "In their introduction to text mining, Ignatow and Milhacea (Ignatow and Milhacea, 2018: 3-5) set text mining in context.  Text mining is the use of computer-based methodologies to collect and analyze digital texts, whether born digital (such as Twitter) or digitized print (such as scanned print texts). It originates in computer science and is used, for example, in marketing.  Text analysis, which dates back as far as the Middle Ages, is the “systematic analysis of word use patterns in text” combining statistical methods and humanistic interpretation, such as content analysis of transcribed interviews or discourse analysis of print texts.  It is common in the social sciences and humanities.  The two are now converging.  Text mining exploits the speed and precision of computers, while text analysis employs the subtlety and context knowledge of humans.  The two complement each other.\n"
   ]
  },
  {
   "cell_type": "markdown",
   "metadata": {},
   "source": [
    "Both text mining and text analysis make use of subjective human judgment and interpretation.  The difference is where in the process it comes in.  In text analysis it early, for example in the close study of historical documents.  In text mining it comes later.  Mützel argues, for example, that while the analyst can topic modelling, a text mining method, to gain “macroscopic insights into the development of entire fields” he or she still needs field knowledge to interpret the results (Mützel, 2015, cited in Ignatow and Milhacea, 2018: 213).\n"
   ]
  },
  {
   "cell_type": "markdown",
   "metadata": {},
   "source": [
    "This Portfolio 2 makes use of two probabilistic models in text mining.  1) Latent Semantic Analysis (LSA). LSA is used to produce a document-term matrix where each cell contains frequency or weighted frequency of a given term in a document in a collection.  Weights are based on the vector-space modelling of terms in documents relative to a query, in which both the frequency of a term in the collection, the size of the collection and the frequency of a term in a document are taken into account (Ignatow and Milhacea, 2018; van der Sluis, 2019a).   2) Latent Dirichlect Allocation (LDA) models topics. This is a statistical model of all the terms in a collection, viewed as a “bag of words”, which is used to tease out clusters of related terms or topics. It is inductive in that the topics are not pre-selected as a query, but emerge from the statistical analysis itself (Ignatow and Milhacea, 2018; van der Sluis, 2019b).\n"
   ]
  },
  {
   "cell_type": "markdown",
   "metadata": {},
   "source": [
    "1. OPEN, IMPORT AND/OR READ A TEXT COLLECTION\n",
    "DOWNLOAD GUARDIAN'S TEXT DATASET USING GUARDIAN'S API\n",
    "NOTE:  THE FOLLOWING CODE IS PARTLY FROM THE GUARDIAN WEB PAGE\n",
    "JGW user key    b37a10ff-7282-40bf-a60f-bacb07a22cd7\n",
    "Script to use to download datafile (with parameters for key, dates, etc. filled in).\n",
    "Script is derived from the Guardian's API documentation page (saved as .pdf)\n"
   ]
  },
  {
   "cell_type": "code",
   "execution_count": 338,
   "metadata": {},
   "outputs": [],
   "source": [
    "import json\n",
    "import requests\n",
    "from os import makedirs\n",
    "from os.path import join, exists\n",
    "from datetime import date, timedelta\n"
   ]
  },
  {
   "cell_type": "markdown",
   "metadata": {},
   "source": [
    "This creates two subdirectories called \"theguardian\" and \"collection\"\n"
   ]
  },
  {
   "cell_type": "code",
   "execution_count": 339,
   "metadata": {},
   "outputs": [],
   "source": [
    "ARTICLES_DIR = join('theguardian', 'collection')\n",
    "makedirs(ARTICLES_DIR, exist_ok=True)\n"
   ]
  },
  {
   "cell_type": "markdown",
   "metadata": {},
   "source": [
    "Sample URL\n",
    "http://content.guardianapis.com/search?from-date=2016-01-02&\n",
    "to-date=2016-01-02&order-by=newest&show-fields=all&page-size=200\n",
    "&api-key=your-api-key-goes-here\n",
    "Change this for your API key:\n"
   ]
  },
  {
   "cell_type": "code",
   "execution_count": 340,
   "metadata": {},
   "outputs": [],
   "source": [
    "MY_API_KEY = 'b37a10ff-7282-40bf-a60f-bacb07a22cd7'\n",
    "API_ENDPOINT = 'http://content.guardianapis.com/search'\n",
    "my_params = {\n",
    "        'from-date': \"\", # leave empty, change start_date / end_date variables instead\n",
    "        'to-date': \"\",\n",
    "        'order-by': \"newest\",\n",
    "        'show-fields': 'all',\n",
    "        'page-size': 200,\n",
    "        'api-key': MY_API_KEY\n",
    "}"
   ]
  },
  {
   "cell_type": "markdown",
   "metadata": {},
   "source": [
    "Day iteration from here:\n",
    "http://stackoverflow.com/questions/7274267/print-all-day-dates-between-two-dates\n",
    "For our collections we choose 1 January 2019 as a start date and 28 October 2019 as end date.  \n"
   ]
  },
  {
   "cell_type": "code",
   "execution_count": 341,
   "metadata": {},
   "outputs": [],
   "source": [
    "start_date = date(2019, 1, 1)\n",
    "end_date = date(2019, 10, 28)\n",
    "dayrange = range((end_date - start_date).days + 1)\n",
    "for daycount in dayrange:\n",
    "    dt = start_date + timedelta(days=daycount)\n",
    "    datestr = dt.strftime('%Y-%m-%d')\n",
    "    fname = join(ARTICLES_DIR, datestr + '.json')\n",
    "    if not exists(fname):\n",
    "        # then let's download it\n",
    "        print(\"Downloading\", datestr)\n",
    "        all_results = []\n",
    "        my_params['from-date'] = datestr\n",
    "        my_params['to-date'] = datestr\n",
    "        current_page = 1\n",
    "        total_pages = 1\n",
    "        while current_page <= total_pages:\n",
    "            print(\"...page\", current_page)\n",
    "            my_params['page'] = current_page\n",
    "            resp = requests.get(API_ENDPOINT, my_params)\n",
    "            data = resp.json()\n",
    "            all_results.extend(data['response']['results'])\n",
    "            # if there is more than one page\n",
    "            current_page += 1\n",
    "            total_pages = data['response']['pages']\n",
    "#\n",
    "        with open(fname, 'w') as f:\n",
    "            print(\"Writing to\", fname)\n",
    "#       Saving the actual article files to disk (\"w\" means write)\n",
    "            # re-serialize it for pretty indentation\n",
    "            f.write(json.dumps(all_results, indent=2))\n"
   ]
  },
  {
   "cell_type": "markdown",
   "metadata": {},
   "source": [
    "READING THE JSON FILES\n",
    "Read JSON files into two variables: a list of ids and a list of plain texts.\n"
   ]
  },
  {
   "cell_type": "code",
   "execution_count": 342,
   "metadata": {},
   "outputs": [],
   "source": [
    "import json\n",
    "import os\n"
   ]
  },
  {
   "cell_type": "markdown",
   "metadata": {},
   "source": [
    "OS means operating system.  OS enables us to read data from the net and then save to own hard disk with a file name. \n",
    "I update to the directory that contains my json files\n",
    "The trailing \"/\" creates a file path on the hard disk to a folder named \"theguardian\" and a subfolder named \"collection\".\n"
   ]
  },
  {
   "cell_type": "code",
   "execution_count": 343,
   "metadata": {},
   "outputs": [],
   "source": [
    "directory_name = \"theguardian/collection/\"\n",
    "ids = list()\n",
    "guard_texts = list()\n"
   ]
  },
  {
   "cell_type": "markdown",
   "metadata": {},
   "source": [
    "This creates two empty lists:  \"ids\" and \"guard_texts\".  Now we can begin to work with them.\n",
    "First we create a for loop to load the data (articles and associated id's for time period). We specify that we want the texts and ids of articles from the \"Opinion\" section only.\n",
    "\n",
    "NOTE: We \"append\" rather than \"extend\" because each item i.e. article) is a single item. If each article were instead a list, and we wanted each item in that article list appended one by one,we would have to use \"extend\" not \"append\".\n"
   ]
  },
  {
   "cell_type": "code",
   "execution_count": 344,
   "metadata": {},
   "outputs": [],
   "source": [
    "for filename in os.listdir(directory_name):\n",
    "# We now go to the folder and read each file of the type \"json\".\n",
    "    if filename.endswith(\".json\"):\n",
    "        # This downloading pro\n",
    "        with open(directory_name + filename) as json_file:\n",
    "            \n",
    "            loopdata = json.load(json_file)\n",
    "            # The data variable \"loopdata\" is created in Python with the content from \n",
    "            # the datafile on the hard disk-- for the purposes of reading the Guardian's \n",
    "            # .json files into the program and stored in the program's memory \n",
    "            # so it can be worked with.            \n",
    "            # This is done by means of the following \"for loop\", which reads the \n",
    "            # respective id's and text for each article.  The file now becomes \n",
    "            # an appended list. \n",
    "            \n",
    "        for article in loopdata:\n",
    "                id = article['id']\n",
    "                fields = article['fields']\n",
    "                doc_type = article['type']\n",
    "                section_id = article['sectionId']\n",
    "                section_name = article['sectionName']\n",
    "                if section_name == 'Opinion':\n",
    "                    # only artilce from the opnion asection are appended to texts \n",
    "                    text = fields['bodyText'] if fields['bodyText'] else \"\"\n",
    "                    # if the field is labelled \"body text\" then it is appended to the \n",
    "                    # \"texts\" list, if not, then a blank is appended\n",
    "                    ids.append(id)\n",
    "                    guard_texts.append(text)\n"
   ]
  },
  {
   "cell_type": "markdown",
   "metadata": {},
   "source": [
    "First glance at the data, how many indices (id's) and associated texts:\n",
    " "
   ]
  },
  {
   "cell_type": "code",
   "execution_count": 345,
   "metadata": {},
   "outputs": [
    {
     "name": "stdout",
     "output_type": "stream",
     "text": [
      "Number of ids: 5533\n",
      "Number of texts: 5533\n"
     ]
    }
   ],
   "source": [
    "print(\"Number of ids: %d\" % len(ids))\n",
    "print(\"Number of texts: %d\" % len(guard_texts))\n",
    " "
   ]
  },
  {
   "cell_type": "markdown",
   "metadata": {},
   "source": [
    "The list has 5533 indices (\"id's\") i.e 5533 texts\n",
    "Next step is to test print a selected article\n",
    "print(\"Article 100 reads as follows:  \",texts[100]) \n",
    "This was successful, so is not coded and outputted here for reasons of space.\n"
   ]
  },
  {
   "cell_type": "markdown",
   "metadata": {},
   "source": [
    "2. PRE-PROCESS AND DESCRIBE YOUR COLLECTION\n",
    "Derive a document-term matrix for your collection. Explain which pre-processing steps you take, for example do you: limit the vocabulary size, apply a token pattern, remove stopwords, or use tf-idf weighting? Describe the characteristics of your collection. How many documents, what is the average length of the documents, how many terms before/after pre-processing, how much words in total, etc. Show that you’re getting “good” terms for further analysis.\"\n"
   ]
  },
  {
   "cell_type": "markdown",
   "metadata": {},
   "source": [
    "2.1 Imports"
   ]
  },
  {
   "cell_type": "code",
   "execution_count": 346,
   "metadata": {},
   "outputs": [],
   "source": [
    "import sklearn\n",
    "import numpy as np\n",
    "import pandas as pd\n",
    "import matplotlib\n",
    "from pandas import DataFrame \n"
   ]
  },
  {
   "cell_type": "markdown",
   "metadata": {},
   "source": [
    "2.2 Remove stop words (use nltk’s stopwords)\n",
    "Stop words removes many of frequent but insignificant terms common to all texts, such as \"of\" \"the\" \"but\".  This helps keep a focus on truly significant words\n",
    "N.B. \"stop words\" fram nltk is a better version of stopwords than sklearn's. \n",
    " "
   ]
  },
  {
   "cell_type": "code",
   "execution_count": 347,
   "metadata": {},
   "outputs": [
    {
     "name": "stderr",
     "output_type": "stream",
     "text": [
      "[nltk_data] Downloading package stopwords to\n",
      "[nltk_data]     C:\\Users\\Jessica\\AppData\\Roaming\\nltk_data...\n",
      "[nltk_data]   Package stopwords is already up-to-date!\n"
     ]
    }
   ],
   "source": [
    "import nltk\n",
    "nltk.download('stopwords')\n",
    "from nltk.corpus import stopwords as sw\n"
   ]
  },
  {
   "cell_type": "markdown",
   "metadata": {},
   "source": [
    "2.3 Import CountVectorizer\n",
    "Initialize CountVectorizer, i.e. create a copy of the \"tool box\" called \n",
    "\"model_vect\" with parameters and training on the data yet, creating a container with working machinery We specify the contents of the tool box, i.e. the parameters of model_vect:  we use English; and the token pattern is defined as a string with a) characters upper or lower case (no numbers); b) where if separated by a hyphen are still one token; and c) there is a minimum of two characters but no maximum number of characters in a token.\n"
   ]
  },
  {
   "cell_type": "code",
   "execution_count": 348,
   "metadata": {},
   "outputs": [],
   "source": [
    "from sklearn.feature_extraction.text import CountVectorizer\n",
    "model_vect = CountVectorizer(stop_words=sw.words('english'), token_pattern=r'[a-zA-Z\\-][a-zA-Z\\-]{2,}')\n"
   ]
  },
  {
   "cell_type": "markdown",
   "metadata": {},
   "source": [
    "The vocabulary contains terms (i.e. \"features\", \"tokens\", \"words\") and reamins attached to the model_vect vectorisor, not to the sparse array \"guard_vect_array\" which we will make next. \n",
    "\n",
    "NOTE: I do not yet limit the vocabulary to 10,000 unique terms because a future query term might be excluded by that.\n"
   ]
  },
  {
   "cell_type": "markdown",
   "metadata": {},
   "source": [
    "Apply a token_pattern and test output.\n"
   ]
  },
  {
   "cell_type": "code",
   "execution_count": 349,
   "metadata": {},
   "outputs": [
    {
     "data": {
      "text/plain": [
       "CountVectorizer(analyzer='word', binary=False, decode_error='strict',\n",
       "                dtype=<class 'numpy.int64'>, encoding='utf-8', input='content',\n",
       "                lowercase=True, max_df=1.0, max_features=None, min_df=1,\n",
       "                ngram_range=(1, 1), preprocessor=None,\n",
       "                stop_words=['i', 'me', 'my', 'myself', 'we', 'our', 'ours',\n",
       "                            'ourselves', 'you', \"you're\", \"you've\", \"you'll\",\n",
       "                            \"you'd\", 'your', 'yours', 'yourself', 'yourselves',\n",
       "                            'he', 'him', 'his', 'himself', 'she', \"she's\",\n",
       "                            'her', 'hers', 'herself', 'it', \"it's\", 'its',\n",
       "                            'itself', ...],\n",
       "                strip_accents=None, token_pattern='[a-zA-Z\\\\-][a-zA-Z\\\\-]{2,}',\n",
       "                tokenizer=None, vocabulary=None)"
      ]
     },
     "execution_count": 349,
     "metadata": {},
     "output_type": "execute_result"
    }
   ],
   "source": [
    "model_vect\n"
   ]
  },
  {
   "cell_type": "markdown",
   "metadata": {},
   "source": [
    "  The list of stop-words looks right."
   ]
  },
  {
   "cell_type": "markdown",
   "metadata": {},
   "source": [
    "2.4 Fit and transform the data into a document term matrix\n"
   ]
  },
  {
   "cell_type": "code",
   "execution_count": 350,
   "metadata": {},
   "outputs": [],
   "source": [
    "guard_vect_array = model_vect.fit_transform(guard_texts)\n"
   ]
  },
  {
   "cell_type": "markdown",
   "metadata": {},
   "source": [
    "We can fit and transform at same time because we will not be adding more \n",
    "data later--this is all the data we are going to be working with.\n"
   ]
  },
  {
   "cell_type": "markdown",
   "metadata": {},
   "source": [
    "2.5 Describe the resulting matrix and contents\n",
    "2.5.1 Describing the matrix as an object\n",
    "Printing the shape of the array gives the number of documents (rows) and terms (columns).  Literally, it gives the co-ordinates of a cell, the \"rows\" being the document indices and the \"columns\" being the term indices.  The value in each cell is the absolute count for that term in that document.  "
   ]
  },
  {
   "cell_type": "code",
   "execution_count": 351,
   "metadata": {},
   "outputs": [
    {
     "name": "stdout",
     "output_type": "stream",
     "text": [
      "Shape of guard_vect_array: (5533, 78832)\n"
     ]
    },
    {
     "data": {
      "text/plain": [
       "(5533, 78832)"
      ]
     },
     "execution_count": 351,
     "metadata": {},
     "output_type": "execute_result"
    }
   ],
   "source": [
    "print('Shape of guard_vect_array: (%i, %i)' % guard_vect_array.shape)\n",
    "guard_vect_array.shape\n"
   ]
  },
  {
   "cell_type": "markdown",
   "metadata": {},
   "source": [
    "2.5.2 Printing the matrix type\n"
   ]
  },
  {
   "cell_type": "code",
   "execution_count": 352,
   "metadata": {},
   "outputs": [
    {
     "name": "stdout",
     "output_type": "stream",
     "text": [
      "<class 'scipy.sparse.csr.csr_matrix'>\n"
     ]
    }
   ],
   "source": [
    "print(type(guard_vect_array))"
   ]
  },
  {
   "cell_type": "markdown",
   "metadata": {},
   "source": [
    "Guard_vect_array is a sparse matrix., i.e. to save memory, all values of 0 are \"left out\".\n"
   ]
  },
  {
   "cell_type": "markdown",
   "metadata": {},
   "source": [
    "2.5.3 How sparse is the matrix. \n"
   ]
  },
  {
   "cell_type": "code",
   "execution_count": 353,
   "metadata": {},
   "outputs": [
    {
     "name": "stdout",
     "output_type": "stream",
     "text": [
      "The sparsity of this matrix : \n",
      "zeros_count / dense_count\n",
      "0.9958069680703534\n"
     ]
    }
   ],
   "source": [
    "print(\"The sparsity of this matrix : \")\n",
    "dense_count = np.prod(guard_vect_array.shape)\n",
    "zeros_count = dense_count - guard_vect_array.size\n",
    "print(\"zeros_count / dense_count\")\n",
    "print(zeros_count / dense_count)"
   ]
  },
  {
   "cell_type": "markdown",
   "metadata": {},
   "source": [
    "2.6  Taking a random sample\n",
    "\n",
    "The purpose is to make sure that the matrix terms make some kind of sense."
   ]
  },
  {
   "cell_type": "code",
   "execution_count": 354,
   "metadata": {},
   "outputs": [
    {
     "data": {
      "text/plain": [
       "['post-election',\n",
       " 'rank-and-file',\n",
       " 'allende',\n",
       " 'post-patriarchal',\n",
       " 'admittance',\n",
       " 'towed',\n",
       " 'hyper-processed',\n",
       " 'much-beloved',\n",
       " 'petty',\n",
       " 'blockade']"
      ]
     },
     "execution_count": 354,
     "metadata": {},
     "output_type": "execute_result"
    }
   ],
   "source": [
    "import random\n",
    "random.sample(model_vect.get_feature_names(), 10)"
   ]
  },
  {
   "cell_type": "markdown",
   "metadata": {},
   "source": [
    "Yes, they do make sense. Code returned 10 random terms:"
   ]
  },
  {
   "cell_type": "markdown",
   "metadata": {},
   "source": [
    "2.8 How long are the texts? \n",
    "We cannot do len(guard_vect_array) but the number of documents is 5533  len(guard_texts))"
   ]
  },
  {
   "cell_type": "code",
   "execution_count": 355,
   "metadata": {},
   "outputs": [
    {
     "name": "stdout",
     "output_type": "stream",
     "text": [
      "Total number of characters is  28082502 ; number of docs is 5533\n"
     ]
    }
   ],
   "source": [
    "total = 0\n",
    "for text in guard_texts:\n",
    "    total = total + len(text)\n",
    "total_docs=(len(guard_texts))\n",
    "print ('Total number of characters is ' , total, '; number of docs is', total_docs)\n"
   ]
  },
  {
   "cell_type": "markdown",
   "metadata": {},
   "source": [
    "2.9 The most frequent words"
   ]
  },
  {
   "cell_type": "markdown",
   "metadata": {},
   "source": [
    "2.9.1 Find the indexes of the top-10 most used words in the collection.\n",
    "\n",
    "To do this, one must first identify the 10 most used words (terms) in the entire collection. To do this requires that we use sum and .A1 to sum the absolute counts in each column (axis=0)to get each column total.  This results in an array of one row with 78.832 columns, each new cell the sum of all the counts for the term.  \n",
    "\n",
    "We then use (-sums_by_term).argsort to make a new list of the all the 78000 indices in descending order (top to bottom) by size of sum. To take the top 10 sums, i.e. the top 10 terms, we take only the slice [:10], which gives an array of 10 indices of the top-10 most used words. \n"
   ]
  },
  {
   "cell_type": "code",
   "execution_count": 356,
   "metadata": {},
   "outputs": [
    {
     "data": {
      "text/plain": [
       "array([51518, 77986, 48970,  8645, 46782, 23183, 42534, 39833, 50939,\n",
       "       70600], dtype=int64)"
      ]
     },
     "execution_count": 356,
     "metadata": {},
     "output_type": "execute_result"
    }
   ],
   "source": [
    "sums_by_term = guard_vect_array.sum(axis=0).A1\n",
    "top_idxs = (-sums_by_term).argsort()[:10]\n",
    "top_idxs\n"
   ]
  },
  {
   "cell_type": "markdown",
   "metadata": {},
   "source": [
    "2.10 Give the WORDS belonging to the top-10 indexes.\n",
    "Use an inverted vocabulary found in Count_vectorizer.\n",
    "\n",
    "N.B. because argsort lists the original indices of the top 10 terms, the associated feature names are still linked.\n"
   ]
  },
  {
   "cell_type": "code",
   "execution_count": 357,
   "metadata": {},
   "outputs": [
    {
     "name": "stdout",
     "output_type": "stream",
     "text": [
      "Top words:  ['people', 'would', 'one', 'brexit', 'new', 'even', 'may', 'like', 'party', 'time']\n"
     ]
    }
   ],
   "source": [
    "inverted_vocabulary = dict([(idx, word) for word, idx in model_vect.vocabulary_.items()])\n",
    "top_words = [inverted_vocabulary[idx] for idx in top_idxs]\n",
    "print(\"Top words: \" , top_words)\n"
   ]
  },
  {
   "cell_type": "markdown",
   "metadata": {},
   "source": [
    "2.11 Describing the documents:  average words, longest, shortest"
   ]
  },
  {
   "cell_type": "code",
   "execution_count": 358,
   "metadata": {},
   "outputs": [
    {
     "name": "stdout",
     "output_type": "stream",
     "text": [
      "the average document contains 852.8807157057654 words\n",
      "the longest is  5073  words, the shortest is  40  words\n"
     ]
    }
   ],
   "source": [
    "total_words = 0\n",
    "hi=len(guard_texts[0])\n",
    "lo=hi\n",
    "for text in guard_texts:\n",
    "    words=text.split() \n",
    "    x=len(words)\n",
    "    if x>hi:\n",
    "        hi=x\n",
    "    if (x<lo) and (x>0):\n",
    "            lo=x\n",
    "    total_words = total_words + x\n",
    "    average_words=(total_words/len(guard_texts))\n",
    "print (\"the average document contains\", average_words , \"words\") \n",
    "print (\"the longest is \", hi, \" words, the shortest is \", lo, \" words\" )"
   ]
  },
  {
   "cell_type": "markdown",
   "metadata": {},
   "source": [
    "2.12 Reflections on the pros and cons of absolute word counts\n",
    "\n",
    "Absolute word counts can contribute to misleading analyses when documents vary \n",
    "significantly in length.  One document may have 10x the references to women as another simply because it is 10x longer. \n",
    "\n",
    "Comparing the length of documents may show something about how far we can trust absolute word counts in this case.\n",
    "  "
   ]
  },
  {
   "cell_type": "markdown",
   "metadata": {},
   "source": [
    "We test by first measuring the total number of words (including repetitions)in the collection. Dividing by the number of documents gives us the mean number of words in each document.  To find the total each document is 'split' into words. \n",
    "\n",
    "The important consideration is the difference in lengths between documents  If there is a wide variation in length, it is more misleading to rely on absolute counts than if all the documents are the same length.\n"
   ]
  },
  {
   "cell_type": "markdown",
   "metadata": {},
   "source": [
    "To find the shortest and longest documents, the highest and lowest word counts are kept as a running comparison, starting with the number of words in the first document.  To ensure that the for loop does keep going until\n",
    "it finds the lowest count above zero, we code so that as the loop executes the 'total_words' variable grows with the number of words in each document.  To find the average this total is divided by the total number of documents . We cannot do len(guard_vect_array) but the number of documents is found by len(guard_texts)).\n"
   ]
  },
  {
   "cell_type": "markdown",
   "metadata": {},
   "source": [
    "2.13 Weighting the document and term frequencies: reflecting on and calculating TF-IDF \n",
    "\n",
    "The next step is to apply LSA to create a document-term matrix with weights in the cells, not absolute counts (Term Frequency-Inverse Document Frequency, TF-IDF).  We do this to account for the fact that longer documents have higher words counts. Zipf's law states that the frequency of  of a word in a collection decreases exponentially with its frequency rank. Longer documents have disproportionately larger vocabularies (Heap's law). Weighting the terms by taking the size of both the collection and the document into account helps counteract this.\n",
    " "
   ]
  },
  {
   "cell_type": "markdown",
   "metadata": {},
   "source": [
    "A TF-IDF weight is composed of TWO terms. \n",
    "\n",
    "a) The first, TF, is the NORMALIZED term frequency in A GIVEN DOCUMENT, i.e. the number of time a given term appears in a single given document, divided by the LENGTH of the document measured in words.\n",
    "\n",
    "b) The second,IDF, inverse document frequency, is a way to measure the IMPORTANCE of a given term in the COLLECTION. Taking the INVERSE is a way to assign more importance to rare and less to common terms.  So the more common a term in the collection as a whole, the less weight it has vis á vis a given document.\n"
   ]
  },
  {
   "cell_type": "code",
   "execution_count": 359,
   "metadata": {},
   "outputs": [
    {
     "name": "stdout",
     "output_type": "stream",
     "text": [
      " \n",
      "[ 8645 51518 77986 50939 38372 48970 72073 36745 42534 17056]\n",
      "Weighted top words:  ['brexit', 'people', 'would', 'party', 'labour', 'one', 'trump', 'johnson', 'may', 'deal']\n",
      "      Word   Weights\n",
      "0   brexit  0.029563\n",
      "1   people  0.026762\n",
      "2    would  0.023941\n",
      "3    party  0.021915\n",
      "4   labour  0.021755\n",
      "5      one  0.021182\n",
      "6    trump  0.020271\n",
      "7  johnson  0.019642\n",
      "8      may  0.018837\n",
      "9     deal  0.018309\n"
     ]
    }
   ],
   "source": [
    "from sklearn.feature_extraction.text import TfidfTransformer\n",
    "# Apply TF-IDF weighting \n",
    "model_tfidf = TfidfTransformer()\n",
    "guard_tfidf = model_tfidf.fit_transform(guard_vect_array)\n",
    "print(' ')\n",
    "freqs = guard_tfidf.mean(axis=0).A1\n",
    "top_idxs2 = (-freqs).argsort()[:10]\n",
    "print(top_idxs2)\n",
    "inverted_vocabulary = dict([(idx, word) for word, idx in model_vect.vocabulary_.items()])\n",
    "weighted_top_words = [inverted_vocabulary[idx] for idx in top_idxs2]\n",
    "print(\"Weighted top words: \" , weighted_top_words)\n",
    "top_weights = []\n",
    "for f in top_idxs2 :\n",
    "    top_weights.append(freqs[f])\n",
    "df3=pd.DataFrame()\n",
    "df3['Word']=weighted_top_words\n",
    "df3['Weights']=top_weights\n",
    "print (df3)\n",
    " "
   ]
  },
  {
   "cell_type": "markdown",
   "metadata": {},
   "source": [
    "We can see, that in Opinion over the given period, terms associated with Brexit and party politics dominated."
   ]
  },
  {
   "cell_type": "markdown",
   "metadata": {},
   "source": [
    "3. SELECT ARTICLES USING A QUERY\n",
    "\n",
    "We are going to select texts based on a query.  These texts will then be analyzed, first using TF-IDF, returning document-term matrices (counts and weights); second using LDA for topic modelling.\n",
    " "
   ]
  },
  {
   "cell_type": "markdown",
   "metadata": {},
   "source": [
    "3.1 Creating the basic LDA matrix\n",
    "\n",
    "Before we can use the second method, topic modelling using LDA, we must first create an LDA matrix based on the entire collection.\n",
    "\n",
    "a) We import LDA.  \n",
    "b) We create the variable \"model_lda\" with parameters n_components=4 (nr. of topics) and random_state=0 (so we get reproducible results on each run). NOTE We choose 4 topics to start with.  The selection from a base collection of 5533 documents may be too small to sustain a really large number of topics (like 25).  Anything less than 4 might risk missing significant topics. 4 can give a good overview.\n",
    "c) We then create the variable guard_lda where we use LDA to fit and transform the guard_vect_array we have already.\n",
    "d) We create a LDA matrix with headings for rows (documents in our base collection) and columns (topics).\n",
    "e) We find the shape of the matrix.\n",
    "\n",
    "Each document is considered to have a small set of topics and each topic frequently uses only a small set of terms.  The distribution of terms in a given topic is the topic's distinctive fingerprint or signature.  Terms may be found in more than one topic but the overall signature is not the same.\n"
   ]
  },
  {
   "cell_type": "code",
   "execution_count": 360,
   "metadata": {},
   "outputs": [
    {
     "name": "stdout",
     "output_type": "stream",
     "text": [
      "The shape of the LDA matrix is %i rows and %i columns (5533, 4)\n"
     ]
    }
   ],
   "source": [
    "from sklearn.decomposition import LatentDirichletAllocation\n",
    "model_lda = LatentDirichletAllocation(n_components=4, random_state=0)\n",
    "guard_lda = model_lda.fit_transform(guard_vect_array)\n",
    "print('The shape of the LDA matrix is %i rows and %i columns', np.shape(guard_lda)) \n"
   ]
  },
  {
   "cell_type": "markdown",
   "metadata": {},
   "source": [
    "3.2 We then create our query.  We choose a named entity (\"Ireland\") because it gets a more consistent selection to model.  Our research questions are both inductive. \n",
    "\n",
    "RESEARCH QUESTIONS:  \n",
    "For the articles in the Opinion Section of The Guardian during the period 1.1.2019-10.28.2019 \n",
    "    1. What terms are associated with the query \"Ireland\".  What weights do the terms have?\n",
    "    2. What are the contents of the top four topics associated with the named entity \"Ireland\"?\n",
    "\n",
    "Our hope is that \"Ireland\" will be much mentioned in the Opinion section of the Guardian during this period.  We hypothesize that in 2019 we may find topics and terms associated with Brexit and Ireland, perhaps related to Northern Ireland, the border there, and/ or the Good Friday Agreement."
   ]
  },
  {
   "cell_type": "markdown",
   "metadata": {},
   "source": [
    "3.3 Describing the selection"
   ]
  },
  {
   "cell_type": "markdown",
   "metadata": {},
   "source": [
    "First we create the selection \"Ireland\"."
   ]
  },
  {
   "cell_type": "code",
   "execution_count": 361,
   "metadata": {},
   "outputs": [
    {
     "name": "stdout",
     "output_type": "stream",
     "text": [
      "Our selection of documents is based on the query: Ireland\n",
      " \n",
      "The number of documents in the selection is: 484\n"
     ]
    }
   ],
   "source": [
    "selection=\"Ireland\"\n",
    "print('Our selection of documents is based on the query:', selection)\n",
    "selection_texts = list()\n",
    "for text in guard_texts:\n",
    "    if selection in text:\n",
    "        selection_texts.append(text)\n",
    "sample_index= list(range(len(selection_texts)))\n",
    "print(' ')  \n",
    "print ('The number of documents in the selection is:', len(selection_texts))  \n"
   ]
  },
  {
   "cell_type": "markdown",
   "metadata": {},
   "source": [
    "Second, we create a new document-term matrix for the selection. \n",
    "\n",
    "The reason is that we want to generate lists of most frequent terms, etc. particular to our selection and not the whole Guardian 'Opinion' section. We need a new vocabulary for the selection.  Calling transform on a CountVectorizer returns an array. The returned array does not however have a vocabulary_ attribute. The vocabulary_ attribute is on the CountVectorizer itself. It contains the method \"transform\" which includes generating a new vocabulary based on the sample.  \n",
    " \n",
    "Creating the matrix also allows us to see the shape of the selection document-term matrix.\n"
   ]
  },
  {
   "cell_type": "code",
   "execution_count": 362,
   "metadata": {},
   "outputs": [
    {
     "name": "stdout",
     "output_type": "stream",
     "text": [
      "Sample_vect shape: (484, 78832)\n"
     ]
    },
    {
     "data": {
      "text/plain": [
       "(484, 78832)"
      ]
     },
     "execution_count": 362,
     "metadata": {},
     "output_type": "execute_result"
    }
   ],
   "source": [
    "sample_vect = model_vect.transform(selection_texts)\n",
    "print('Sample_vect shape: (%i, %i)' % sample_vect.shape)\n",
    "sample_vect.shape\n"
   ]
  },
  {
   "cell_type": "markdown",
   "metadata": {},
   "source": [
    "#### 3.4 Analyzing the selection using TF-IDF (weights)\n"
   ]
  },
  {
   "cell_type": "markdown",
   "metadata": {},
   "source": [
    "We then create for the sample, using Tfidf, a document-term matrix with weights.\n",
    "We find the weights for the top 10 terms in the selection Ireland.\n"
   ]
  },
  {
   "cell_type": "code",
   "execution_count": 363,
   "metadata": {},
   "outputs": [
    {
     "name": "stdout",
     "output_type": "stream",
     "text": [
      "[ 8645 35860 36745 17056 47839 42534 77986  8854 35877 50939]\n",
      "Ireland top words:  ['brexit', 'ireland', 'johnson', 'deal', 'northern', 'may', 'would', 'britain', 'irish', 'party']\n",
      "Weights of the top 10 Ireland words\n",
      "       Word   Weights\n",
      "0    brexit  0.081523\n",
      "1   ireland  0.080670\n",
      "2   johnson  0.058862\n",
      "3      deal  0.054012\n",
      "4  northern  0.052310\n",
      "5       may  0.038295\n",
      "6     would  0.037696\n",
      "7   britain  0.035794\n",
      "8     irish  0.035184\n",
      "9     party  0.029845\n"
     ]
    }
   ],
   "source": [
    "sample_tfidf = model_tfidf.transform(sample_vect)\n",
    "freqs = sample_tfidf.mean(axis=0).A1\n",
    "top_idxs3 = (-freqs).argsort()[:10]\n",
    "print(top_idxs3)\n",
    "inverted_vocabulary = dict([(idx, word) for word, idx in model_vect.vocabulary_.items()])\n",
    "sample_top_words = [inverted_vocabulary[idx] for idx in top_idxs3]\n",
    "print(selection,\"top words: \" , sample_top_words)\n",
    "\n",
    "sample_freqs = list()\n",
    "for f in top_idxs3 :\n",
    "    sample_freqs.append(freqs[f])\n",
    "df4=pd.DataFrame()\n",
    "df4['Word']=sample_top_words\n",
    "df4['Weights']=sample_freqs\n",
    "print('Weights of the top 10', selection,'words')\n",
    "print (df4)\n"
   ]
  },
  {
   "cell_type": "markdown",
   "metadata": {},
   "source": [
    "3.5 Analyzing selection texts by top 10 terms, using absolute counts. \n",
    "\n",
    "We then create for the selection, a document-term matrix with counts. Applying pandas’ dataframe to the selection, we add column names (words) and row names (document indexes).\n",
    "A dense matrix is created with the selection texts and the count of the top 10 words in put in the matrix - but first the actual top 10 words are printed.\n"
   ]
  },
  {
   "cell_type": "code",
   "execution_count": 364,
   "metadata": {},
   "outputs": [
    {
     "name": "stdout",
     "output_type": "stream",
     "text": [
      " \n",
      "Selection of words from random Ireland texts\n",
      "['brexit', 'ireland', 'johnson', 'deal', 'northern', 'may', 'would', 'britain', 'irish', 'party']\n",
      " \n",
      "     brexit  ireland  johnson  deal  northern  may  would  britain  irish  \\\n",
      "481       0        0        1     0         0    2      0        0      0   \n",
      "0         0        0        0     2         0    0      0        0      0   \n",
      "372       0        0        0     0         0    0      2        0      0   \n",
      "210       0        0        0     0         0    0      2        0      0   \n",
      "350       4        0        1     3         0    1      9        2      0   \n",
      "216       0        0        0     0         0    0      1        0      0   \n",
      "54        5        0        0     3         0    1      4        0      0   \n",
      "134       0        0        0     0         0    2      0        0      0   \n",
      "246       0        0        0     1         0    0      0        0      0   \n",
      "2         0        0        0     0         0    0      3        0      0   \n",
      "402      12        0        0     1         0    0      5        6      0   \n",
      "455       0        0        0     0         0    0      5        0      0   \n",
      "451       0        0        0     0         0    1      0        0      0   \n",
      "91        0        0        0     1         0    1      1        0      0   \n",
      "431       0        0        0     0         0    0      1        0      0   \n",
      "\n",
      "     party  \n",
      "481      0  \n",
      "0        0  \n",
      "372      0  \n",
      "210      0  \n",
      "350      1  \n",
      "216      0  \n",
      "54       0  \n",
      "134      0  \n",
      "246      0  \n",
      "2        2  \n",
      "402      0  \n",
      "455      1  \n",
      "451      0  \n",
      "91       1  \n",
      "431      1  \n",
      "\n"
     ]
    }
   ],
   "source": [
    "print(' ')    \n",
    "print(\"Selection of words from random\", selection, \"texts\")\n",
    "print(sample_top_words)\n",
    "sub_matrix5 = guard_vect_array[random_sample_selection, :][:, top_idxs3].todense()\n",
    "print(' ')\n",
    "df5=pd.DataFrame(columns=sample_top_words, index=random_sample_selection, data=sub_matrix5 )\n",
    "print(df5)\n",
    "print()\n"
   ]
  },
  {
   "cell_type": "markdown",
   "metadata": {},
   "source": [
    "3.6 Comparing top 10 weights for selection Ireland with weights for corresponding terms in the collection.  \n",
    "To determine whether the selected articles are indeed about the query, I compare the selection weights to the overall weights."
   ]
  },
  {
   "cell_type": "code",
   "execution_count": 365,
   "metadata": {},
   "outputs": [
    {
     "name": "stdout",
     "output_type": "stream",
     "text": [
      "Selection new weights compared to collection weights\n",
      "       Word   Ireland  Collection\n",
      "0    brexit  0.081523    0.029563\n",
      "1   ireland  0.080670    0.026762\n",
      "2   johnson  0.058862    0.023941\n",
      "3      deal  0.054012    0.021915\n",
      "4  northern  0.052310    0.021755\n",
      "5       may  0.038295    0.021182\n",
      "6     would  0.037696    0.020271\n",
      "7   britain  0.035794    0.019642\n",
      "8     irish  0.035184    0.018837\n",
      "9     party  0.029845    0.018309\n"
     ]
    }
   ],
   "source": [
    "print('Selection new weights compared to collection weights')\n",
    "df_compare=pd.DataFrame()\n",
    "df_compare['Word']=sample_top_words\n",
    "df_compare[selection]=sample_freqs\n",
    "df_compare['Collection']=top_freqs\n",
    "print(df_compare)"
   ]
  },
  {
   "cell_type": "markdown",
   "metadata": {},
   "source": [
    "The top 10 weights confirm that \"Ireland\" returns terms associated both with Ireland (and with Brexit)and that these term weights are heavier in the selection than in the collection as a whole."
   ]
  },
  {
   "cell_type": "markdown",
   "metadata": {},
   "source": [
    "As the following loop executes, the 'total_words' variable grows with the number of words in each document.  To find the average this total is divided by the total number of documents . The number of documents is found by len(selection_texts))\n"
   ]
  },
  {
   "cell_type": "code",
   "execution_count": 366,
   "metadata": {},
   "outputs": [
    {
     "name": "stdout",
     "output_type": "stream",
     "text": [
      " \n",
      "The average Ireland document contains 913.1446280991736 words.\n",
      "The longest is 6241 words, the shortest is 305 words.\n"
     ]
    }
   ],
   "source": [
    "total_words = 0\n",
    "hi=len(selection_texts[0])\n",
    "lo=hi\n",
    "for text in selection_texts:\n",
    "    words=text.split() \n",
    "    x=len(words)\n",
    "    if x>hi:\n",
    "        hi=x\n",
    "    if (x<lo) and (x>0):\n",
    "            lo=x\n",
    "    total_words = total_words + x\n",
    "\n",
    "average_words=(total_words/len(selection_texts))\n",
    "print(\" \")\n",
    "print (\"The average\",selection,\"document contains\",average_words , \"words.\") \n",
    "print (\"The longest is\", hi, \"words, the shortest is\", lo, \"words.\" )\n",
    "\n"
   ]
  },
  {
   "cell_type": "markdown",
   "metadata": {},
   "source": [
    "3.6 Visualizing the selection"
   ]
  },
  {
   "cell_type": "code",
   "execution_count": 367,
   "metadata": {},
   "outputs": [
    {
     "name": "stdout",
     "output_type": "stream",
     "text": [
      "Word cloud of top 10 terms in the Ireland texts\n"
     ]
    },
    {
     "data": {
      "image/png": "[encoded data removed]",
      "text/plain": [
       "<Figure size 432x288 with 1 Axes>"
      ]
     },
     "metadata": {
      "needs_background": "light"
     },
     "output_type": "display_data"
    }
   ],
   "source": [
    "print(\"Word cloud of top 10 terms in the\", selection ,\"texts\")\n",
    "import matplotlib.pyplot as plt\n",
    "%matplotlib inline\n",
    "#% matplotlib inline # only if using notebooks\n",
    "from wordcloud import WordCloud\n",
    "text1= ' '.join(df4['Word'])\n",
    "wordcloud1 = WordCloud().generate(text1)\n",
    "# Generate plot\n",
    "plt.imshow(wordcloud1)\n",
    "plt.axis(\"off\")\n",
    "plt.show()\n"
   ]
  },
  {
   "cell_type": "markdown",
   "metadata": {},
   "source": [
    "4. MODEL AND VISUALIZE THE TOPICS IN YOUR SUBSET\n"
   ]
  },
  {
   "cell_type": "markdown",
   "metadata": {},
   "source": [
    "Model and visualize the topics in your subset using Latent Dirichlet Allocation (LDA) on your pre-processed data.\n",
    "Note: Set n_components=4 (nr. of topics) and random_state=0 (so we get \n",
    "reproducible results on each run).\n",
    "we have already done: \n",
    "from sklearn.decomposition import LatentDirichletAllocation\n"
   ]
  },
  {
   "cell_type": "code",
   "execution_count": 368,
   "metadata": {},
   "outputs": [],
   "source": [
    "model_lda = LatentDirichletAllocation(n_components=4, random_state=0)\n",
    "selection_vect_array = model_vect.fit_transform(selection_texts)\n",
    "selection_lda = model_lda.fit_transform(selection_vect_array)\n"
   ]
  },
  {
   "cell_type": "markdown",
   "metadata": {},
   "source": [
    "4.2 Describe the shape of the resulting matrix.\n",
    "N.B.  x documents (rows) x 4 topics (columns)\n",
    "find the top words in the topics and  plot a wordcloud"
   ]
  },
  {
   "cell_type": "code",
   "execution_count": 369,
   "metadata": {},
   "outputs": [
    {
     "name": "stdout",
     "output_type": "stream",
     "text": [
      "The shape of the LDA matrix is 5533 rows and  4 columns\n",
      "Topic 0: brexit, deal, johnson, would, may, britain, party, labour, one, mps, government, parliament, minister, could, prime, even, tory, ireland, vote, european\n"
     ]
    },
    {
     "data": {
      "image/png": "[encoded data removed]",
      "text/plain": [
       "<Figure size 432x288 with 1 Axes>"
      ]
     },
     "metadata": {
      "needs_background": "light"
     },
     "output_type": "display_data"
    },
    {
     "name": "stdout",
     "output_type": "stream",
     "text": [
      "Topic 1: university, people, one, students, years, young, many, time, also, like, would, europe, need, education, world, ireland, make, children, even, year\n"
     ]
    },
    {
     "data": {
      "image/png": "[encoded data removed]",
      "text/plain": [
       "<Figure size 432x288 with 1 Axes>"
      ]
     },
     "metadata": {
      "needs_background": "light"
     },
     "output_type": "display_data"
    },
    {
     "name": "stdout",
     "output_type": "stream",
     "text": [
      "Topic 2: would, one, people, like, ireland, time, many, years, new, even, much, world, get, scotland, britain, war, could, last, little, may\n"
     ]
    },
    {
     "data": {
      "image/png": "[encoded data removed]",
      "text/plain": [
       "<Figure size 432x288 with 1 Axes>"
      ]
     },
     "metadata": {
      "needs_background": "light"
     },
     "output_type": "display_data"
    },
    {
     "name": "stdout",
     "output_type": "stream",
     "text": [
      "Topic 3: ireland, northern, people, would, one, irish, brexit, government, british, years, many, may, political, border, time, like, also, even, dup, could\n"
     ]
    },
    {
     "data": {
      "image/png": "[encoded data removed]",
      "text/plain": [
       "<Figure size 432x288 with 1 Axes>"
      ]
     },
     "metadata": {
      "needs_background": "light"
     },
     "output_type": "display_data"
    }
   ],
   "source": [
    "print('The shape of the LDA matrix is %i rows and  %i columns' % np.shape(guard_lda)) \n",
    "\n",
    "for i, term_weights in enumerate(model_lda.components_):\n",
    "    top_idxs_selection = (-term_weights).argsort()[:20]\n",
    "    top_words_selection = [\"%s\" % (model_vect.get_feature_names()[idx]) for idx in top_idxs_selection]\n",
    "    word_freqs_selection = dict(zip(top_words_selection, term_weights[top_idxs_selection]))\n",
    "    wordcloud2= WordCloud(background_color=\"white\").generate_from_frequencies(word_freqs_selection)\n",
    "    plt.imshow(wordcloud2)\n",
    "    print(\"Topic %d: %s\" % (i, \", \".join(top_words_selection)))\n",
    "    plt.show()\n",
    "# The addition of plt.show() turned out to be necessary in order to \n",
    "# show every wordcloud. without it only the last one is shown    \n"
   ]
  },
  {
   "cell_type": "markdown",
   "metadata": {},
   "source": [
    "4.3. Evaluating the topic models \n",
    "#### The Topics seem to make sense:\n",
    "    Topic 0: seems to be: Politics and Brexit\n",
    "    Topic 1: seems to be: Students and Universities\n",
    "    Topic 2: seems to be: United Kingdom\n",
    "    Topic 3: seems to be: Unification Northern Ireland with Ireland\n"
   ]
  },
  {
   "cell_type": "markdown",
   "metadata": {},
   "source": [
    "### 5. CONCLUSION\n",
    "\n",
    "To answer the research question, the hypothesis that the query \"Ireland\" might return terms related to Brexit was confirmed.  Second, topic modelling showed that there was indeed an overlap between the top weighted results using LSA (query \"Ireland\") and three of the four topics created using LDA.  The larger conclusion is that LSA and LDA are useful and complementary methods for text mining, one basically deductive (query) and one basically inductive (topic modelling).\n",
    "\n",
    "It is clear that the paper would be improved if there had been time to play with different numbers of topics and a more extensive analysis."
   ]
  },
  {
   "cell_type": "markdown",
   "metadata": {},
   "source": [
    "BIBLIOGRAPHY\n",
    "\n",
    "Ignatow, G. and Milhacea (2018) Introduction to Text Mining. Menlo Park, CA: SAGE Publications, Inc.\n",
    "\n",
    "Mützel, S. (2015) ‘Facing big data: Making sociology relevant.’, Big Data & Society, 2(2), pp. 1–4.\n",
    "\n",
    "van der Sluis, F. (2019a) ‘OPD uge 41 SLIDES Text Mining 101-2: Vector-space model’. Copenhagen: University of Copenhagen, Institute for Communication.\n",
    "\n",
    "van der Sluis, F. (2019b) ‘OPD uge 43 SLIDES Text Mining 101-3: Topic modelling’. Copenhagen: University of Copenhagen, Institute for Communication.\n"
   ]
  }
 ],
 "metadata": {
  "kernelspec": {
   "display_name": "Python 3",
   "language": "python",
   "name": "python3"
  },
  "language_info": {
   "codemirror_mode": {
    "name": "ipython",
    "version": 3
   },
   "file_extension": ".py",
   "mimetype": "text/x-python",
   "name": "python",
   "nbconvert_exporter": "python",
   "pygments_lexer": "ipython3",
   "version": "3.7.4"
  }
 },
 "nbformat": 4,
 "nbformat_minor": 2
}
